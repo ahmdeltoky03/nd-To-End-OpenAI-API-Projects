{
 "cells": [
  {
   "cell_type": "markdown",
   "id": "cfcf1236",
   "metadata": {
    "height": 30
   },
   "source": [
    "## Setup"
   ]
  },
  {
   "cell_type": "code",
   "execution_count": 6,
   "id": "7fa0d9b5",
   "metadata": {
    "height": 65,
    "tags": []
   },
   "outputs": [],
   "source": [
    "import os\n",
    "import openai\n",
    "from dotenv import load_dotenv, find_dotenv"
   ]
  },
  {
   "cell_type": "code",
   "execution_count": 7,
   "id": "0f4cf06e",
   "metadata": {
    "height": 31
   },
   "outputs": [],
   "source": [
    "_ = load_dotenv(find_dotenv()) # read local .env file"
   ]
  },
  {
   "cell_type": "code",
   "execution_count": 9,
   "id": "d9c12f98",
   "metadata": {
    "height": 31
   },
   "outputs": [],
   "source": [
    "openai.api_key = os.getenv('OPENAI_API_KEY')"
   ]
  },
  {
   "cell_type": "markdown",
   "id": "a9183228-0ba6-4af9-8430-649e28868253",
   "metadata": {
    "id": "JMXGlIvAwn30"
   },
   "source": [
    "## Sentiment Analysis"
   ]
  },
  {
   "cell_type": "code",
   "execution_count": null,
   "id": "b4d15e61",
   "metadata": {
    "height": 1108
   },
   "outputs": [
    {
     "name": "stdout",
     "output_type": "stream",
     "text": [
      "```json\n",
      "{\n",
      "  \"sentiment\": \"Positive\",\n",
      "  \"confidence\": 1.0,\n",
      "  \"explanation\": \"The text contains highly positive words like 'great' and 'love,' indicating a strong positive sentiment.\"\n",
      "}\n",
      "```\n"
     ]
    }
   ],
   "source": [
    "# customizing chatgpt\n",
    "\n",
    "def analyze_sentiment(text : str):\n",
    "    \"\"\"\n",
    "    text : user_prompt\n",
    "    \"\"\"\n",
    "        \n",
    "    system_prompt = \"\"\"\n",
    "                            You are a highly accurate sentiment analysis assistant. Your task is to analyze the sentiment of user-provided text and classify it into one of the following categories:  \n",
    "\n",
    "                            1. **Positive** – The text expresses happiness, satisfaction or any form of positive emotion.  \n",
    "                            2. **Negative** – The text expresses  sadness, anger, disappointment, or any negative sentiment.  \n",
    "                            3. **Neutral** – The text does not strongly convey positive or negative emotions; it is factual or balanced.  \n",
    "\n",
    "                            Additionally, provide a **confidence score** from 0 to 1, where:  \n",
    "                            - **1.0** means extremely confident,  \n",
    "                            - **0.5** means moderately confident,  \n",
    "                            - **0.0** means not confident at all.  \n",
    "\n",
    "                            When analyzing sentiment, consider the following:  \n",
    "                            - **Emotion Words**: Look for strong emotional indicators like \"love,\" \"hate,\" \"amazing,\" \"terrible.\"  \n",
    "                            - **Context & Tone**: Consider sarcasm, exclamation marks, or tone that changes the meaning.  \n",
    "                            - **Polarity & Intensity**: Evaluate whether the sentiment is weak or strong.  \n",
    "\n",
    "                            Format your response as follows:  \n",
    "                            ```json\n",
    "                            {\n",
    "                              \"sentiment\": \"Positive/Negative/Neutral\",\n",
    "                              \"confidence\": 0.0-1.0,\n",
    "                              \"explanation\": \"Brief reason why the sentiment was classified this way.\"\n",
    "                            }\n",
    "\n",
    "                            \"\"\"\n",
    "\n",
    "    messages = [\n",
    "                {\n",
    "                    \"role\":\"system\",\n",
    "                    \"content\":system_prompt\n",
    "                },\n",
    "                {\n",
    "                    \"role\":\"user\",\n",
    "                    \"content\":user_prompt\n",
    "                }\n",
    "            ]\n",
    "\n",
    "    ## call API\n",
    "    response = openai.ChatCompletion.create(\n",
    "                model = \"gpt-3.5-turbo\",\n",
    "                messages = messages,\n",
    "                temperature = 0.0,\n",
    "                n = 1,\n",
    "                max_tokens = 1000\n",
    "            )\n",
    "\n",
    "    return response[\"choices\"][0][\"message\"][\"content\"]\n",
    "\n",
    "\n",
    "user_prompt = \"This product is great! I love using it every day! \"\n",
    "\n",
    "\n",
    "sentiment = analyze_sentiment(user_prompt)\n",
    "print(sentiment)\n"
   ]
  },
  {
   "cell_type": "code",
   "execution_count": 45,
   "id": "2ad3f2a9",
   "metadata": {
    "height": 932
   },
   "outputs": [
    {
     "name": "stdout",
     "output_type": "stream",
     "text": [
      "تبدو على استياء من هذا المنتج. أنصحك بالبحث عن منتج آخر قد يناسب احتياجاتك أكثر.\n",
      "------------------------------------------------------------------------------------------------------------------------\n",
      "هذا المنتج يبدو أنه محايد، إذا كنت تبحث عن شيء آخر يمكنني مساعدتك في العثور عليه.\n",
      "------------------------------------------------------------------------------------------------------------------------\n",
      "Classified as: Negative\n",
      "\n",
      "I'm sorry to hear that you're not satisfied with the product. If you're open to it, I can suggest another product that may better meet your needs.\n",
      "------------------------------------------------------------------------------------------------------------------------\n",
      "That's great to hear! Your emotions seem very positive. Would you like to explore another product to enhance your experience even more?\n"
     ]
    }
   ],
   "source": [
    "emotions = [\"Positive\",\"Negative\",\"Neutral\"]\n",
    "def analyze_sentiment(text):\n",
    "    \n",
    "\n",
    "    system_prompt = f\"\"\"\n",
    "    you are emotionally intelligent assistant. \\\n",
    "    classifiy user text based one of the following {emotions} \\\n",
    "    if emotions is bad suggest another anyone to user. \\\n",
    "    if emotions is positive make to him offer to get another one. \\ \n",
    "    if it is not positive or negative it is neutral. \\\n",
    "    reply using language same to text language. \n",
    "   \n",
    "    \"\"\"\n",
    "\n",
    "    messages = [\n",
    "        {\"role\": \"system\", \"content\": system_prompt},\n",
    "        {\"role\": \"user\", \"content\": text}\n",
    "    ]\n",
    "\n",
    "    try:\n",
    "        response = openai.ChatCompletion.create(\n",
    "            model=\"gpt-3.5-turbo\",\n",
    "            messages=messages,\n",
    "            temperature=0.0,\n",
    "            max_tokens=1000\n",
    "        )\n",
    "\n",
    "        return response[\"choices\"][0][\"message\"][\"content\"]\n",
    "\n",
    "    except Exception as e:\n",
    "        return f\"Error: {str(e)}\"\n",
    "\n",
    "# Example usage\n",
    "user_prompt = \"هذا المنتج غير جيد بالمرة ولا انصح بشراؤه \"\n",
    "sentiment = analyze_sentiment(user_prompt)\n",
    "print(sentiment)\n",
    "\n",
    "print('--'*60)\n",
    "\n",
    "user_prompt = \"هذا المنتج لا هو جيد ولا هو سئ\"\n",
    "sentiment = analyze_sentiment(user_prompt)\n",
    "print(sentiment)\n",
    "\n",
    "print('--'*60)\n",
    "\n",
    "user_prompt = \"This product is terrible. I regret buying it.\"\n",
    "sentiment = analyze_sentiment(user_prompt)\n",
    "print(sentiment)\n",
    "\n",
    "print('--'*60)\n",
    "\n",
    "user_prompt = \"This product is very useful. I am happy for buying it.\"\n",
    "sentiment = analyze_sentiment(user_prompt)\n",
    "print(sentiment)"
   ]
  },
  {
   "cell_type": "code",
   "execution_count": null,
   "id": "829cde14",
   "metadata": {
    "height": 31
   },
   "outputs": [],
   "source": []
  }
 ],
 "metadata": {
  "kernelspec": {
   "display_name": "Python 3 (ipykernel)",
   "language": "python",
   "name": "python3"
  },
  "language_info": {
   "codemirror_mode": {
    "name": "ipython",
    "version": 3
   },
   "file_extension": ".py",
   "mimetype": "text/x-python",
   "name": "python",
   "nbconvert_exporter": "python",
   "pygments_lexer": "ipython3",
   "version": "3.9.19"
  }
 },
 "nbformat": 4,
 "nbformat_minor": 5
}
