{
 "cells": [
  {
   "cell_type": "markdown",
   "id": "33934420",
   "metadata": {
    "height": 30
   },
   "source": [
    "## Chat Completion API"
   ]
  },
  {
   "cell_type": "code",
   "execution_count": 1,
   "id": "0994183b",
   "metadata": {
    "height": 98
   },
   "outputs": [],
   "source": [
    "## load needed library\n",
    "import os\n",
    "import openai\n",
    "from dotenv import load_dotenv, find_dotenv\n",
    "_ = load_dotenv(find_dotenv()) # read local .env file"
   ]
  },
  {
   "cell_type": "code",
   "execution_count": 2,
   "id": "af0992ee",
   "metadata": {
    "height": 30
   },
   "outputs": [],
   "source": [
    "openai.api_key  = os.getenv('OPENAI_API_KEY')"
   ]
  },
  {
   "cell_type": "code",
   "execution_count": 3,
   "id": "a5c3f0a2",
   "metadata": {
    "height": 506
   },
   "outputs": [
    {
     "name": "stdout",
     "output_type": "stream",
     "text": [
      "**Pros and Cons of Using AI**\n",
      "\n",
      "**Pros:**\n",
      "\n",
      "1. **Efficiency:** AI can perform tasks much faster and more accurately than humans, leading to increased efficiency in various industries.\n",
      "\n",
      "2. **Cost-Effective:** Implementing AI can reduce operational costs by automating repetitive tasks and minimizing human error.\n",
      "\n",
      "3. **24/7 Availability:** AI systems can work around the clock without the need for breaks, leading to improved productivity and customer service.\n",
      "\n",
      "4. **Data Analysis:** AI can process and analyze large volumes of data quickly, providing valuable insights and predictions for businesses.\n",
      "\n",
      "5. **Personalization:** AI can be used to create personalized experiences for users, such as targeted marketing campaigns or customized product recommendations.\n",
      "\n",
      "6. **Automation:** AI can automate routine tasks, freeing up human workers to focus on more complex and creative aspects of their jobs.\n",
      "\n",
      "7. **Safety:** AI can be used in hazardous environments or situations where human safety is a concern, reducing the risk of accidents.\n",
      "\n",
      "**Cons:**\n",
      "\n",
      "1. **Job Displacement:** The automation of tasks by AI can lead to job losses in certain industries, potentially causing unemployment and economic disruption.\n",
      "\n",
      "2. **Bias:** AI systems can inherit biases from their training data, leading to discriminatory outcomes in areas such as hiring, lending, and law enforcement.\n",
      "\n",
      "3. **Privacy Concerns:** AI systems often require access to large amounts of data, raising concerns about privacy and data security.\n",
      "\n",
      "4. **Lack of Creativity:** While AI excels at repetitive tasks and data analysis, it may struggle with tasks that require creativity, intuition, or emotional intelligence.\n",
      "\n",
      "5. **Dependency:** Overreliance on AI systems can lead to a lack of human oversight and control, potentially causing errors or unintended consequences.\n",
      "\n",
      "6. **Ethical Issues:** The use of AI raises ethical questions around issues such as accountability, transparency, and the potential for misuse or abuse of technology.\n",
      "\n",
      "7. **Complexity:** Implementing and maintaining AI systems can be complex and costly, requiring specialized skills and resources that may not be readily available to all organizations.\n",
      "\n",
      "In conclusion, while AI offers numerous benefits in terms of efficiency, cost-effectiveness, and data analysis, it also presents challenges related to job displacement, bias, privacy concerns, and ethical considerations. Organizations must carefully weigh the pros and cons of using AI to ensure responsible and effective implementation of this technology.\n"
     ]
    }
   ],
   "source": [
    "## prompts\n",
    "system_prompt = \"\"\" Answer as detailed as possible \"\"\"\n",
    "user_prompt = \"\"\" What is The pros and cons of using AI ?  \\\n",
    "                  answer like steps 1- ... \\\n",
    "                                    2- ... \\\n",
    "                                    and so on \\ \n",
    "                                    and highlight pros and cons\n",
    "                                    \"\"\"\n",
    "## messages\n",
    "messages = [\n",
    "    {\n",
    "        \"role\":\"system\", \n",
    "        \"content\": system_prompt\n",
    "    }, # customizing api\n",
    "    {\n",
    "        \"role\":\"user\",\n",
    "        \"content\": user_prompt\n",
    "    } # what do you want ?\n",
    "]\n",
    "\n",
    "\n",
    "## call ChatCompletion API\n",
    "response = openai.ChatCompletion.create(\n",
    "    model = \"gpt-3.5-turbo\",\n",
    "    messages = messages, \n",
    "    temperature = 0\n",
    ")\n",
    "\n",
    "print(response[\"choices\"][0].message[\"content\"])"
   ]
  },
  {
   "cell_type": "markdown",
   "id": "d96d65b2",
   "metadata": {
    "height": 30
   },
   "source": [
    "###### Change Only System Prompt"
   ]
  },
  {
   "cell_type": "code",
   "execution_count": 49,
   "id": "8f97ae04",
   "metadata": {
    "height": 421
   },
   "outputs": [
    {
     "name": "stdout",
     "output_type": "stream",
     "text": [
      "1- **Pros of using AI:**\n",
      "- Increased efficiency and productivity\n",
      "- Automation of repetitive tasks\n",
      "- Improved decision-making through data analysis\n",
      "- Enhanced customer service and personalization\n",
      "- Accelerated innovation and problem-solving\n",
      "\n",
      "2- **Cons of using AI:**\n",
      "- Potential job displacement and unemployment\n",
      "- Data privacy and security concerns\n",
      "- Bias and discrimination in AI algorithms\n",
      "- Lack of transparency and accountability\n",
      "- Dependency on technology with potential risks\n"
     ]
    }
   ],
   "source": [
    "## prompts\n",
    "system_prompt = \"\"\" Answer as concisely as possible \"\"\"\n",
    "\n",
    "## messages\n",
    "messages = [\n",
    "    {\n",
    "        \"role\":\"system\", \n",
    "        \"content\": system_prompt\n",
    "    }, # customizing api\n",
    "    {\n",
    "        \"role\":\"user\",\n",
    "        \"content\": user_prompt\n",
    "    } # what do you want ?\n",
    "]\n",
    "\n",
    "\n",
    "## call ChatCompletion API\n",
    "response = openai.ChatCompletion.create(\n",
    "    model = \"gpt-3.5-turbo\",\n",
    "    messages = messages, \n",
    "    temperature = 0\n",
    ")\n",
    "\n",
    "print(response[\"choices\"][0].message[\"content\"])"
   ]
  },
  {
   "cell_type": "code",
   "execution_count": 52,
   "id": "878e7fc7",
   "metadata": {
    "height": 438
   },
   "outputs": [
    {
     "name": "stdout",
     "output_type": "stream",
     "text": [
      "Yes, I am familiar with Geoffrey Hinton. Geoffrey Hinton is a prominent computer scientist and a leading figure in the field of artificial intelligence (AI) and machine learning. He is often referred to as the \"Godfather of Deep Learning\" due to his pioneering work in developing neural network models and algorithms that have significantly advanced the field of AI.\n",
      "\n",
      "Hinton's research has been instrumental in the development of deep learning techniques, particularly in the areas of neural networks, deep belief networks, and convolutional neural networks. His work has had a profound impact on various applications of AI, including computer vision, speech recognition, natural language processing, and more.\n",
      "\n",
      "Geoffrey Hinton is a professor emeritus at the University of Toronto and a distinguished researcher at Google. He has received numerous awards and honors for his contributions to the field of AI, including the Turing Award, which is considered the Nobel Prize of computing. Hinton continues to be actively involved in research and is widely regarded as one of the most influential figures in the field of artificial intelligence.\n"
     ]
    }
   ],
   "source": [
    "## prompts\n",
    "system_prompt = \"\"\" Answer as detailed as possible \"\"\"\n",
    "user_prompt = \"\"\" Do You Know Geoffery Hinton ? \"\"\"\n",
    "\n",
    "## messages\n",
    "messages = [\n",
    "    {\n",
    "        \"role\":\"system\", \n",
    "        \"content\": system_prompt\n",
    "    }, # customizing api\n",
    "    {\n",
    "        \"role\":\"user\",\n",
    "        \"content\": user_prompt\n",
    "    } # what do you want ?\n",
    "]\n",
    "\n",
    "\n",
    "## call ChatCompletion API\n",
    "response = openai.ChatCompletion.create(\n",
    "    model = \"gpt-3.5-turbo\",\n",
    "    messages = messages, \n",
    "    temperature = 0\n",
    ")\n",
    "\n",
    "print(response[\"choices\"][0].message[\"content\"])"
   ]
  },
  {
   "cell_type": "code",
   "execution_count": 57,
   "id": "a3546685",
   "metadata": {
    "height": 438
   },
   "outputs": [
    {
     "name": "stdout",
     "output_type": "stream",
     "text": [
      "Yes, he is a computer scientist known for his work in artificial intelligence and deep learning.\n"
     ]
    }
   ],
   "source": [
    "## prompts\n",
    "system_prompt = \"\"\" You are an AI Assistant, Answer Question in the shortest way \"\"\"\n",
    "user_prompt = \"\"\" Do You Know Yann LeCun ? \"\"\"\n",
    "\n",
    "## messages\n",
    "messages = [\n",
    "    {\n",
    "        \"role\":\"system\", \n",
    "        \"content\": system_prompt\n",
    "    }, # customizing api\n",
    "    {\n",
    "        \"role\":\"user\",\n",
    "        \"content\": user_prompt\n",
    "    } # what do you want ?\n",
    "]\n",
    "\n",
    "\n",
    "## call ChatCompletion API\n",
    "response = openai.ChatCompletion.create(\n",
    "    model = \"gpt-3.5-turbo\",\n",
    "    messages = messages, \n",
    "    temperature = 0\n",
    ")\n",
    "\n",
    "print(response[\"choices\"][0].message[\"content\"])"
   ]
  },
  {
   "cell_type": "markdown",
   "id": "af95e0a0",
   "metadata": {
    "height": 30
   },
   "source": [
    "## Parameters"
   ]
  },
  {
   "cell_type": "code",
   "execution_count": 25,
   "id": "b20273e1",
   "metadata": {
    "height": 1067
   },
   "outputs": [
    {
     "name": "stdout",
     "output_type": "stream",
     "text": [
      "AI stands for artificial intelligence, which is the simulation of human intelligence processes by machines, especially computer systems. It involves learning, reasoning, problem-solving, perception, and language understanding.\n"
     ]
    }
   ],
   "source": [
    "## prompts\n",
    "system_prompt = \"\"\" You are an AI Assistant, Answer Question in the shortest way \"\"\"\n",
    "user_prompt = \"\"\" What do you know AI ? \"\"\"\n",
    "\n",
    "## messages\n",
    "messages = [\n",
    "    {\"role\":\"system\",\"content\": system_prompt}, # customizing api\n",
    "    {\"role\":\"user\",\"content\": user_prompt} # what do you want ?\n",
    "]\n",
    "\n",
    "## temperature :\n",
    "# temperature default vlaue = 1 and It is between [0, 2].\n",
    "# Increasing Temperatue make model more diverse (randomness) and may produce many errors.\n",
    "# Reducting it make model more deterministic and reduce it's randomness\n",
    "# ----------------------------------------------------------------------------------------\n",
    "\n",
    "## max_token :\n",
    "# number of token in output \n",
    "# max token for this model (gpt-3.5-turbo) is 4096 token\n",
    "# ----------------------------------------------------------------------------------------\n",
    "\n",
    "## top_p :\n",
    "# It's an alternative for temperature parameter\n",
    "# It's between [0, 1]\n",
    "# let's say if top_p=.2 then model take into consideration the top 20% words in the vocabulary.\n",
    "# top_o = 1 mean the model take into consideration of all words in the vocabulary.\n",
    "# ----------------------------------------------------------------------------------------\n",
    "\n",
    "\n",
    "## n\n",
    "# mean number of responses in each request \n",
    "# default value is 1\n",
    "# ----------------------------------------------------------------------------------------\n",
    "\n",
    "## frequency_penalty\n",
    "# Increasing value of frequency_penalty means Reduce repeatness the same result on each response.\n",
    "# higher positive of frequency_penalty, the lower probability that the model repeat words.\n",
    "# lower positive of frequency_penalty, the higher probability that the model repeat words and repeat itself.\n",
    "# default value = 0, range [-2, 2]\n",
    "# ----------------------------------------------------------------------------------------\n",
    "\n",
    "\n",
    "## call ChatCompletion API\n",
    "response = openai.ChatCompletion.create(\n",
    "    model = \"gpt-3.5-turbo\",\n",
    "    messages = messages,\n",
    "    temperature = 1,\n",
    "#     max_tokens=1000,\n",
    "    n=3,\n",
    "#     top_p=.4,\n",
    "#     frequency_penalty = 0\n",
    ")\n",
    "\n",
    "\n",
    "print(response[\"choices\"][0].message[\"content\"])\n",
    "\n",
    "# using n==3\n",
    "# print(response[\"choices\"][0].message[\"content\"])\n",
    "# print('--'*60)\n",
    "# print(response[\"choices\"][1].message[\"content\"])\n",
    "# print('--'*60)\n",
    "# print(response[\"choices\"][2].message[\"content\"])"
   ]
  },
  {
   "cell_type": "code",
   "execution_count": 36,
   "id": "9cf32ba9",
   "metadata": {
    "height": 370
   },
   "outputs": [
    {
     "name": "stdout",
     "output_type": "stream",
     "text": [
      "Sure! Here is an example of an SQL query:\n",
      "\n",
      "```\n",
      "SELECT * \n",
      "FROM employees\n",
      "WHERE department = 'IT';\n",
      "```\n",
      "\n",
      "This SQL query retrieves all columns from the `employees` table where the `department` is equal to 'IT'. It returns a result set of all employee records that are part of the IT department.\n"
     ]
    }
   ],
   "source": [
    "## prompts\n",
    "system_prompt = \"\"\" write an example of SQL query, explain what is retriev ? \"\"\"\n",
    "user_prompt = \"\"\" You are SQL Developer  \"\"\"\n",
    "\n",
    "## messages\n",
    "messages = [\n",
    "    {\"role\":\"system\",\"content\": system_prompt}, # customizing api\n",
    "    {\"role\":\"user\",\"content\": user_prompt} # what do you want ?\n",
    "]\n",
    "\n",
    "\n",
    "\n",
    "## call ChatCompletion API\n",
    "response = openai.ChatCompletion.create(\n",
    "    model = \"gpt-3.5-turbo\",\n",
    "    messages = messages,\n",
    "    temperature = 1,\n",
    ")\n",
    "\n",
    "\n",
    "print(response[\"choices\"][0].message[\"content\"])"
   ]
  },
  {
   "cell_type": "code",
   "execution_count": 39,
   "id": "dad0cec4",
   "metadata": {
    "height": 404
   },
   "outputs": [
    {
     "name": "stdout",
     "output_type": "stream",
     "text": [
      "The Nile River is one of the most iconic and longest rivers in the world, stretching over 4,100 miles across northeastern Africa. It is often regarded as the lifeblood of Egypt and Sudan, providing crucial resources for agriculture, transportation, and everyday livelihoods for millions of people living along its banks.\n",
      "\n",
      "Originating from Lake Victoria in Uganda as the White Nile and Lake Tana in Ethiopia as the Blue Nile before converging at Khartoum in Sudan to form what we know as simply The Nile River. From there it flows north through Egypt before emptying into the Mediterranean Sea.\n",
      "\n",
      "The importance of this historic river cannot be overstated. Throughout history, civilizations have flourished along its banks due to its fertile soil made possible by annual flooding that brings nutrient-rich sediments downstream. Ancient Egyptians depended on these floodwaters for their agricultural practices which sustained their society.\n",
      "\n",
      "Today, while much has changed with modern technology including dams such as Aswan High Dam which regulates water flow and provides hydroelectricity – The Nile remains a vital resource particularly for Egypt where almost 95% lies within Egyptian territory helping around 100 million people thrive despite being largely desert country.\n",
      " \n",
      "Apart from sustenance purposes -the river also holds cultural significance playing role not just Biblical stories such Moses parting but having been celebrated artists writers capturing mystique allure timeless beauty..or \"Father Of Life\" moniker showing reverence inhabitants depend heavily on benefits bestowed upon them throughout generations-\n",
      "\n",
      "It's impossible overlook environmental issues facing today: worrying decline water quality pollution deforestation version problems all bleeding vessels impact larger crisis unfolding global warming- Numerous non-profit organizations governments engage conservation efforts help protect not only wildlife habitats threatened human activities harm planet too so precious balance ecosystems maintained guide ensure sustainable future upcoming generations inherit same wonders natural splendor witnessed current population.\n",
      "\n",
      "\n",
      "\n",
      "\n",
      "\n",
      "\n",
      "\n"
     ]
    }
   ],
   "source": [
    "## prompts\n",
    "system_prompt = \"\"\" write an Article about Nile River  \"\"\"\n",
    "user_prompt = \"\"\" You are a smart assistant  \"\"\"\n",
    "\n",
    "## messages\n",
    "messages = [\n",
    "    {\"role\":\"system\",\"content\": system_prompt}, # customizing api\n",
    "    {\"role\":\"user\",\"content\": user_prompt} # what do you want ?\n",
    "]\n",
    "\n",
    "\n",
    "\n",
    "## call ChatCompletion API\n",
    "response = openai.ChatCompletion.create(\n",
    "    model = \"gpt-3.5-turbo\",\n",
    "    messages = messages,\n",
    "    temperature = 1,\n",
    "    max_tokens=1000,\n",
    "    frequency_penalty=2\n",
    ")\n",
    "\n",
    "\n",
    "print(response[\"choices\"][0].message[\"content\"])"
   ]
  },
  {
   "cell_type": "markdown",
   "id": "27ece563",
   "metadata": {
    "height": 30
   },
   "source": [
    "## System Prompt in much more details"
   ]
  },
  {
   "cell_type": "code",
   "execution_count": 41,
   "id": "aadb2fd3",
   "metadata": {
    "height": 489
   },
   "outputs": [
    {
     "name": "stdout",
     "output_type": "stream",
     "text": [
      "Advanced data structures are complex and specialized ways of organizing and storing data in computer memory to efficiently perform operations such as insertion, deletion, searching, sorting, and traversal. These data structures go beyond the basic ones like arrays, linked lists, stacks or queues by providing more sophisticated methods for handling large amounts of information.\n",
      "\n",
      "Some examples of advanced data structures include:\n",
      "\n",
      "1. **Trees**: Trees are hierarchical data structures that consist of nodes connected by edges. Examples include binary trees (each node has at most two children), binary search trees (nodes are ordered in a specific way for efficient searching), AVL trees (self-balancing binary search tree) etc.\n",
      "\n",
      "2. **Graphs**: Graphs consist of vertices/nodes connected by edges/links which can be directed or undirected. They are used to represent relationships between different entities in a network.\n",
      "\n",
      "3. **Heaps**: Heaps are complete binary trees that satisfy the heap property where each parent node is either greater than or less than its child nodes based on some ordering criteria.\n",
      "\n",
      "4. **Tries**: Tries (prefix tree) store keys associated with values where characters from the key form a path from root to leaf within the structure allowing for efficient retrieval based on prefixes.\n",
      "\n",
      "5 .**Hash Tables:** Hash tables use hash functions to map keys/values pairs into an array index making it possible to access elements quickly using their unique key.\n",
      "\n",
      "\n",
      "These advanced data structures offer various advantages such as faster access times compared to basic ones but may require more memory space due their complexity.\n",
      "\n",
      "\n",
      "Example Python script implementing an AVL Tree:\n",
      "\n",
      "```python\n",
      "class Node:\n",
      "    def __init__(self,key):\n",
      "        self.key = key\n",
      "        self.left = None\n",
      "        self.right = None\n",
      "\n",
      "def insert(root,key):\n",
      "    if not root:\n",
      "        return Node(key)\n",
      "    elif key < root.key:\n",
      "        root.left = insert(root.left,key)\n",
      "    else:\n",
      "        \troot.right=insert(root.right,key)\n",
      "\n",
      "def inorder_traversal(node):\n",
      "\tif not node: \n",
      "\t\treturn\n",
      "\t\n",
      "\tinorder_traversal(node.left)\n",
      "\tprint(node.key),\n",
      "\tinorder_traversal(node.right)\n",
      "\n",
      "root=None\n",
      "keys=[10 ,20 ,30 ,40]\n",
      "for i in range(len(keys)):\n",
      "\troot=insert(root,i)\n",
      "\n",
      "\n",
      "inorder_traversal(roots)\n",
      "\n",
      "\n",
      "\n",
      "```\n",
      "\n",
      "Question: What is one advantage of using an AVL tree over a regular Binary Search Tree?\n"
     ]
    }
   ],
   "source": [
    "## prompts\n",
    "system_prompt = \"\"\" You are smart AI assistant.\n",
    "                    instructions:\n",
    "                    1 - explain concept in depth.\n",
    "                    2 - give me example -- python script.\n",
    "                    3 - answer me question to check understanding.\n",
    "                \"\"\"\n",
    "user_prompt = \"\"\" Explain to me Advanced Data Structures  \"\"\"\n",
    "\n",
    "## messages\n",
    "messages = [\n",
    "    {\"role\":\"system\",\"content\": system_prompt}, # customizing api\n",
    "    {\"role\":\"user\",\"content\": user_prompt} # what do you want ?\n",
    "]\n",
    "\n",
    "\n",
    "\n",
    "## call ChatCompletion API\n",
    "response = openai.ChatCompletion.create(\n",
    "    model = \"gpt-3.5-turbo\",\n",
    "    messages = messages,\n",
    "    temperature = 0,\n",
    "    max_tokens=1000,\n",
    "    frequency_penalty=2\n",
    ")\n",
    "\n",
    "\n",
    "print(response[\"choices\"][0].message[\"content\"])"
   ]
  }
 ],
 "metadata": {
  "kernelspec": {
   "display_name": "Python 3 (ipykernel)",
   "language": "python",
   "name": "python3"
  },
  "language_info": {
   "codemirror_mode": {
    "name": "ipython",
    "version": 3
   },
   "file_extension": ".py",
   "mimetype": "text/x-python",
   "name": "python",
   "nbconvert_exporter": "python",
   "pygments_lexer": "ipython3",
   "version": "3.9.19"
  }
 },
 "nbformat": 4,
 "nbformat_minor": 5
}
