{
 "cells": [
  {
   "cell_type": "markdown",
   "id": "7602a9b3",
   "metadata": {
    "height": 30
   },
   "source": [
    "## Image Generation API"
   ]
  },
  {
   "cell_type": "code",
   "execution_count": 1,
   "id": "91f2c455",
   "metadata": {
    "height": 98
   },
   "outputs": [],
   "source": [
    "import os\n",
    "import openai\n",
    "from dotenv import load_dotenv, find_dotenv\n",
    "import requests\n",
    "import tempfile"
   ]
  },
  {
   "cell_type": "code",
   "execution_count": 2,
   "id": "423fd077",
   "metadata": {
    "height": 30
   },
   "outputs": [],
   "source": [
    "_ = load_dotenv(find_dotenv())"
   ]
  },
  {
   "cell_type": "code",
   "execution_count": 3,
   "id": "c61c244d",
   "metadata": {
    "height": 30
   },
   "outputs": [],
   "source": [
    "openai.api_key  = os.getenv('OPENAI_API_KEY')"
   ]
  },
  {
   "cell_type": "code",
   "execution_count": 4,
   "id": "686b9bf6",
   "metadata": {
    "height": 30
   },
   "outputs": [],
   "source": [
    "os.makedirs('generated_images',exist_ok=True)"
   ]
  },
  {
   "cell_type": "markdown",
   "id": "76c1a4c9",
   "metadata": {
    "height": 30
   },
   "source": [
    "## DALL-E  \n",
    "- Is an artificial intelligence model developed by OpenAI. It is named after the artist Salvador Dalí and the Pixar character WALL-E.\n",
    "\n",
    "- DALL-E is based on the GPT-3 architecture and is specifically designed for generating images from textual descriptions."
   ]
  },
  {
   "cell_type": "code",
   "execution_count": 6,
   "id": "f94c737e",
   "metadata": {
    "height": 166
   },
   "outputs": [],
   "source": [
    "## DALL-E\n",
    "user_prompt = \"A Beautiful garden have many flowers and a happy man is smelling flower. \"\n",
    "response = openai.Image.create(\n",
    "    prompt = user_prompt,\n",
    "    n = 1,\n",
    "    size = \"1024x1024\"\n",
    ")\n",
    "\n",
    "image_url = response[\"data\"][0][\"url\"]"
   ]
  },
  {
   "cell_type": "code",
   "execution_count": null,
   "id": "5bbbac75",
   "metadata": {
    "height": 166
   },
   "outputs": [],
   "source": [
    "request_res = requests.get(image_url)\n",
    "if request_res.status_code == 200:\n",
    "    image_temp_name = os.path.basename(tempfile.NamedTemporaryFile(suffix='.png').name)\n",
    "    image_path_local = os.path.join(os.getcwd(),\"generated_images\", image_temp_name)\n",
    "    \n",
    "    with open(\"image_path_local\", \"wb\") as f:\n",
    "        f.write(request_res.content)\n",
    "else:\n",
    "    print(\"There is a problem in generating Image\")"
   ]
  },
  {
   "cell_type": "markdown",
   "id": "631d8e37",
   "metadata": {
    "height": 183
   },
   "source": [
    "## Compine Chat Completion API with Image Generation API \n",
    "- Using gpt-3.5-turbo to refine the prompt and translate it, making some prompt engineering, to enhance the performance of the output image.\n"
   ]
  },
  {
   "cell_type": "code",
   "execution_count": null,
   "id": "765751af",
   "metadata": {
    "height": 795
   },
   "outputs": [],
   "source": [
    "system_prompt =     '''\n",
    "                    You are an AI assistant. Your task is to regenerate the following text to be a prompt for an image generation model.\n",
    "                    Instructions:\n",
    "                    1. Analyze the text and refine it to ensure clarity, specificity, and accuracy.\n",
    "                    2. Create a prompt in ENGLISH language that best represents the text meaning.\n",
    "                    3. If the text is not in English, TRANSLATE it into English.\n",
    "                    4. Return the result in a list containing only the final prompt in ENGLISH.\n",
    "                    '''\n",
    "\n",
    "\n",
    "user_prompt = \"حديقة مملوئة بالزهور والورود وراجل يشم الورورد \"\n",
    "messages = [\n",
    "    {\"role\":\"system\",\"content\":system_prompt},\n",
    "    {\"role\":\"user\",\"content\":user_prompt}\n",
    "]\n",
    "\n",
    "response = openai.ChatCompletion.create(\n",
    "    model = \"gpt-3.5-turbo\",\n",
    "    messages = messages,\n",
    "    temperature = .7,\n",
    "    max_tokens = 1000\n",
    ")\n",
    "refined_prompt = response[\"choices\"][0][\"message\"][\"content\"]\n",
    "print(refined_prompt)\n",
    "\n",
    "\n",
    "## using Image Generation API -- ( DALL-E )\n",
    "\n",
    "response = openai.Image.create(\n",
    "    prompt = refined_prompt,\n",
    "    n = 1,\n",
    "    size = \"1024x1024\"\n",
    ")\n",
    "\n",
    "image_url = response[\"data\"][0][\"url\"]\n",
    "\n",
    "request_response = requests.get(image_url)\n",
    "if request_response.status_code == 200:\n",
    "    image_temp_name = os.path.basename(tempfile.NamedTemporaryFile(suffix='.png').name)\n",
    "    image_path_local = os.path.join(os.getcwd(),\"generated_images\", image_temp_name)\n",
    "    \n",
    "    with open(\"image_path_local\", \"wb\") as f:\n",
    "        f.write(request_res.content)\n",
    "else:\n",
    "    print(\"There is a problem in generating Image\")"
   ]
  },
  {
   "cell_type": "markdown",
   "id": "8aff6c48",
   "metadata": {
    "height": 30
   },
   "source": [
    "## Create Variations using DALL-E"
   ]
  },
  {
   "cell_type": "code",
   "execution_count": null,
   "id": "71329ca5",
   "metadata": {
    "height": 353
   },
   "outputs": [],
   "source": [
    "image_path = os.path.join(os.getcwd(),\"generated_images\", image_name ) # any image from generated images folder\n",
    "img = open(image_path, 'rb')\n",
    "\n",
    "## DALL-E\n",
    "response = openai.Image.create_variation(\n",
    "                image=img,\n",
    "                n=1,\n",
    "                size='1024x1024'\n",
    "                )\n",
    "image_url = response[\"data\"][0][\"url\"]\n",
    "request_response = requests.get(image_url)\n",
    "\n",
    "if request_response.status_code == 200:\n",
    "    image_temp_name = os.path.basename(tempfile.NamedTemporaryFile(suffix='.png').name)\n",
    "    image_path_local = os.path.join(os.getcwd(),\"generated_images\", image_temp_name)\n",
    "    \n",
    "    with open(\"image_path_local\", \"wb\") as f:\n",
    "        f.write(request_res.content)\n",
    "else:\n",
    "    print(\"There is a problem in generating Image\")"
   ]
  }
 ],
 "metadata": {
  "kernelspec": {
   "display_name": "Python 3 (ipykernel)",
   "language": "python",
   "name": "python3"
  },
  "language_info": {
   "codemirror_mode": {
    "name": "ipython",
    "version": 3
   },
   "file_extension": ".py",
   "mimetype": "text/x-python",
   "name": "python",
   "nbconvert_exporter": "python",
   "pygments_lexer": "ipython3",
   "version": "3.9.19"
  }
 },
 "nbformat": 4,
 "nbformat_minor": 5
}
