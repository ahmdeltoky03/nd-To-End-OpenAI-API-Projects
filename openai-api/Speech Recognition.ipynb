{
 "cells": [
  {
   "cell_type": "markdown",
   "id": "3e2ed266",
   "metadata": {
    "height": 30
   },
   "source": [
    "## Speech Recognition API\n",
    " - Whisper is an automatic speech recognition (ASR) system developed by OpenAI. It is designed to transcribe spoken language into text with high accuracy. Whisper is capable of handling multiple languages, noisy environments, and different accents. It is commonly used for:  \n",
    "      - ✅Speech-to-text transcription\n",
    "      - ✅ Language translation\n",
    "      - ✅ Voice command recognition\n",
    "      - ✅ Subtitling and captioning"
   ]
  },
  {
   "cell_type": "code",
   "execution_count": 2,
   "id": "49115380",
   "metadata": {
    "height": 81
   },
   "outputs": [],
   "source": [
    "import os\n",
    "import openai\n",
    "from dotenv import load_dotenv, find_dotenv\n",
    "import requests"
   ]
  },
  {
   "cell_type": "code",
   "execution_count": 3,
   "id": "850944e4",
   "metadata": {
    "height": 30
   },
   "outputs": [],
   "source": [
    "_ = load_dotenv(find_dotenv())"
   ]
  },
  {
   "cell_type": "code",
   "execution_count": 4,
   "id": "1f078c14",
   "metadata": {
    "height": 30
   },
   "outputs": [],
   "source": [
    "openai.api_key  = os.getenv('OPENAI_API_KEY')"
   ]
  },
  {
   "cell_type": "code",
   "execution_count": 20,
   "id": "18b1ccd7",
   "metadata": {
    "height": 404
   },
   "outputs": [
    {
     "name": "stdout",
     "output_type": "stream",
     "text": [
      "Download complete: audio_files/downloaded_audio.mp3\n",
      "Song – Uptown Funk Song – Uptown Funk Song – Uptown Funk Song – Uptown Funk\n"
     ]
    }
   ],
   "source": [
    "# (Replace with any valid audio file URL)\n",
    "audio_url = \"https://www.soundhelix.com/examples/mp3/SoundHelix-Song-1.mp3\"\n",
    "\n",
    "audio_folder = \"audio_files\"\n",
    "os.makedirs(audio_folder, exist_ok=True)\n",
    "\n",
    "with open(os.path.join(audio_folder, \"downloaded_audio.mp3\"), \"wb\") as file:\n",
    "    response = requests.get(audio_url, stream=True)\n",
    "    \n",
    "    # Check if the request was successful\n",
    "    if response.status_code == 200:\n",
    "        for chunk in response.iter_content(chunk_size=1024):\n",
    "            file.write(chunk)\n",
    "        print(f\"Download complete: {file.name}\")\n",
    "    else:\n",
    "        print(f\"Failed to download file. Status code: {response.status_code}\")\n",
    "        \n",
    "## The audio transcription (English)\n",
    "audio_path = os.path.join(os.getcwd(),\"audio_files\", \"downloaded_audio.mp3\")\n",
    "\n",
    "with open(audio_path,'rb') as f:\n",
    "    transcript = openai.Audio.transcribe('whisper-1', f)\n",
    "    print(transcript[\"text\"])"
   ]
  },
  {
   "cell_type": "code",
   "execution_count": 14,
   "id": "c98f9283",
   "metadata": {
    "height": 115
   },
   "outputs": [],
   "source": [
    "## The audio transcription (Arabic)\n",
    "audio_path = os.path.join(os.getcwd(),\"audio_files\", \"downloaded_audio.mp3\")\n",
    "\n",
    "with open(audio_path,'rb') as f:\n",
    "    transcript = openai.Audio.translate('whisper-1', f)\n",
    "    print(transcript[\"text\"])"
   ]
  },
  {
   "cell_type": "code",
   "execution_count": 19,
   "id": "211f4ea8",
   "metadata": {
    "height": 336
   },
   "outputs": [
    {
     "name": "stdout",
     "output_type": "stream",
     "text": [
      "Download complete: /home/jovyan/work/l8_chatbot/audio_files/downloaded_audio_2.mp3\n",
      "Transcription:  Game Game pleased to have you here And here to help you decide Who will take over The small world of my love What to do next? To make a bet I called it Cause I feel I've won What to do next? To make a bet I called it Cause I feel I've won What to do next? To make a bet I called it Cause I feel I've won What to do next? To make a bet I called it Cause I feel I've won What to do next? To make a bet I called it Cause I feel I've won What to do next? To make a bet I called it Cause I feel I've won What to do next? To make a bet I called it Cause I feel I've won What to do next? To make a bet I called it Cause I feel I've won What to do next? To make a bet I called it Cause I feel I've won What to do next? To make a bet I called it Cause I feel I've won What to do next? To make a bet I called it Cause I feel I've won What to do next? To make a bet I called it Cause I feel I've won What to do next? To make a bet I called it Cause I feel I've won What to do next? To make a bet I called it Cause I feel I've won What to do next? To make a bet I called it Cause I feel I've won What to do next? To make a bet I called it Cause I feel I've won What to do next? To make a bet I called it Cause I feel I've won What to do next? To make a bet I called it Cause I feel I've won What to do next? To make a bet I called it Cause I feel I've won What to do next? To make a bet I called it Cause I feel I've won What to do next? To make a bet I called it Cause I feel I've won What to do next? To make a bet I called it Cause I feel I've won What to do next? Cause I feel I've won What to do next? To make a bet I called it Cause I feel I've won What to do next? To make a bet I called it Cause I feel I've won What to do next? To make a bet I called it Cause I feel I've won What to do next? To make a bet I called it Cause I feel I've won What to do next? To make a bet Cause I feel I've won What to do next? Cause I feel I've won What to do next? To make a bet Cause I feel I've won What to do next?\n"
     ]
    }
   ],
   "source": [
    "audio_url = \"https://www.soundhelix.com/examples/mp3/SoundHelix-Song-2.mp3\"\n",
    "audio_path = os.path.join(os.getcwd(), audio_folder, \"downloaded_audio_2.mp3\")\n",
    "\n",
    "# Download the audio file\n",
    "response = requests.get(audio_url, stream=True)\n",
    "\n",
    "if response.status_code == 200:\n",
    "    with open(audio_path, \"wb\") as file:\n",
    "        for chunk in response.iter_content(chunk_size=1024):\n",
    "            file.write(chunk)\n",
    "    print(f\"Download complete: {audio_path}\")\n",
    "else:\n",
    "    print(f\"Failed to download file. Status code: {response.status_code}\")\n",
    "\n",
    "# Step 2: Transcribe the audio file\n",
    "with open(audio_path, \"rb\") as audio_file:\n",
    "    transcript = openai.Audio.transcribe(\"whisper-1\", audio_file)\n",
    "    print(\"Transcription: \", transcript[\"text\"])\n"
   ]
  }
 ],
 "metadata": {
  "kernelspec": {
   "display_name": "Python 3 (ipykernel)",
   "language": "python",
   "name": "python3"
  },
  "language_info": {
   "codemirror_mode": {
    "name": "ipython",
    "version": 3
   },
   "file_extension": ".py",
   "mimetype": "text/x-python",
   "name": "python",
   "nbconvert_exporter": "python",
   "pygments_lexer": "ipython3",
   "version": "3.9.19"
  }
 },
 "nbformat": 4,
 "nbformat_minor": 5
}
